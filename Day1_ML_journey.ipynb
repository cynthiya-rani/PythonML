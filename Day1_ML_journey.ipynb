{
  "nbformat": 4,
  "nbformat_minor": 0,
  "metadata": {
    "colab": {
      "provenance": [],
      "include_colab_link": true
    },
    "kernelspec": {
      "name": "python3",
      "display_name": "Python 3"
    },
    "language_info": {
      "name": "python"
    }
  },
  "cells": [
    {
      "cell_type": "markdown",
      "metadata": {
        "id": "view-in-github",
        "colab_type": "text"
      },
      "source": [
        "<a href=\"https://colab.research.google.com/github/cynthiya-rani/PythonML/blob/main/Day1_ML_journey.ipynb\" target=\"_parent\"><img src=\"https://colab.research.google.com/assets/colab-badge.svg\" alt=\"Open In Colab\"/></a>"
      ]
    },
    {
      "cell_type": "code",
      "execution_count": null,
      "metadata": {
        "colab": {
          "base_uri": "https://localhost:8080/"
        },
        "id": "HpmbKqI7jltH",
        "outputId": "0ec1bf68-5f68-4ec7-f746-ea081ec8cab5"
      },
      "outputs": [
        {
          "output_type": "stream",
          "name": "stdout",
          "text": [
            "hello world\n"
          ]
        }
      ],
      "source": [
        "print(\"hello world\")"
      ]
    },
    {
      "cell_type": "code",
      "source": [
        "print(\"Welcome Cynthiya!\")"
      ],
      "metadata": {
        "id": "34ZbDQBAxLWX",
        "outputId": "fc27e3e5-9f33-4fb9-9111-e9b38dcb9748",
        "colab": {
          "base_uri": "https://localhost:8080/"
        }
      },
      "execution_count": null,
      "outputs": [
        {
          "output_type": "stream",
          "name": "stdout",
          "text": [
            "Welcome Cynthiya!\n"
          ]
        }
      ]
    },
    {
      "cell_type": "code",
      "source": [
        "a=100\n",
        "print(id(a))"
      ],
      "metadata": {
        "colab": {
          "base_uri": "https://localhost:8080/"
        },
        "id": "tHFWGlYZD3rD",
        "outputId": "cb9c0cc8-aa9e-420b-e8ca-bb7e336cd9e1"
      },
      "execution_count": null,
      "outputs": [
        {
          "output_type": "stream",
          "name": "stdout",
          "text": [
            "10754024\n"
          ]
        }
      ]
    },
    {
      "cell_type": "code",
      "source": [
        "b=100\n",
        "print(id(b))"
      ],
      "metadata": {
        "colab": {
          "base_uri": "https://localhost:8080/"
        },
        "id": "7JUi9k7hEC80",
        "outputId": "84d32b42-96e9-4775-81f0-4486e8d35129"
      },
      "execution_count": null,
      "outputs": [
        {
          "output_type": "stream",
          "name": "stdout",
          "text": [
            "10754024\n"
          ]
        }
      ]
    },
    {
      "cell_type": "code",
      "source": [
        "c=100\n",
        "print(id(c))"
      ],
      "metadata": {
        "colab": {
          "base_uri": "https://localhost:8080/"
        },
        "id": "ZJRwYZaAELvO",
        "outputId": "16fa0cf1-2b4a-490b-9e89-54febdc45be0"
      },
      "execution_count": null,
      "outputs": [
        {
          "output_type": "stream",
          "name": "stdout",
          "text": [
            "10754024\n"
          ]
        }
      ]
    },
    {
      "cell_type": "code",
      "source": [
        "d=50\n",
        "e=d\n",
        "print(id(d))\n",
        "print(id(e))"
      ],
      "metadata": {
        "colab": {
          "base_uri": "https://localhost:8080/"
        },
        "id": "CvQz8hXHES6w",
        "outputId": "862e2c8e-1222-4651-d5b5-961cfae2a072"
      },
      "execution_count": null,
      "outputs": [
        {
          "output_type": "stream",
          "name": "stdout",
          "text": [
            "10752424\n",
            "10752424\n"
          ]
        }
      ]
    },
    {
      "cell_type": "code",
      "source": [
        "s, t, u=10,20,30\n",
        "print(id(s), id(t), id(u))"
      ],
      "metadata": {
        "colab": {
          "base_uri": "https://localhost:8080/"
        },
        "id": "GDMTebETHAU8",
        "outputId": "92d1be5a-775c-4a50-d6e6-c09cf5d8df2f"
      },
      "execution_count": null,
      "outputs": [
        {
          "output_type": "stream",
          "name": "stdout",
          "text": [
            "10751144 10751464 10751784\n"
          ]
        }
      ]
    },
    {
      "cell_type": "code",
      "source": [
        "a=b=c=10\n",
        "print(a,b,c)"
      ],
      "metadata": {
        "colab": {
          "base_uri": "https://localhost:8080/"
        },
        "id": "qZySOyLOHO1n",
        "outputId": "65d7bfb5-2c0b-4774-87ec-628c57756699"
      },
      "execution_count": null,
      "outputs": [
        {
          "output_type": "stream",
          "name": "stdout",
          "text": [
            "10 10 10\n"
          ]
        }
      ]
    },
    {
      "cell_type": "code",
      "source": [
        "import keyword as kwd # python keywords list\n",
        "print(kwd.kwlist)"
      ],
      "metadata": {
        "id": "15XwN3FJH5hW",
        "outputId": "c4204ce2-8ffb-4da7-a810-ce5c155c346a",
        "colab": {
          "base_uri": "https://localhost:8080/"
        }
      },
      "execution_count": null,
      "outputs": [
        {
          "output_type": "stream",
          "name": "stdout",
          "text": [
            "['False', 'None', 'True', 'and', 'as', 'assert', 'async', 'await', 'break', 'class', 'continue', 'def', 'del', 'elif', 'else', 'except', 'finally', 'for', 'from', 'global', 'if', 'import', 'in', 'is', 'lambda', 'nonlocal', 'not', 'or', 'pass', 'raise', 'return', 'try', 'while', 'with', 'yield']\n"
          ]
        }
      ]
    },
    {
      "cell_type": "code",
      "source": [
        "#multilie comment\n",
        "\"\"\" test\n",
        "test \"\"\"\n",
        "print(\"hi\")"
      ],
      "metadata": {
        "id": "RB2EVlvzKQzI",
        "outputId": "6dd58986-b864-4295-f8c5-1b9fb1f257a5",
        "colab": {
          "base_uri": "https://localhost:8080/"
        }
      },
      "execution_count": null,
      "outputs": [
        {
          "output_type": "stream",
          "name": "stdout",
          "text": [
            "hi\n"
          ]
        }
      ]
    },
    {
      "cell_type": "code",
      "source": [
        "st=\"\"\" test materieal\n",
        "python testing\n",
        "multiple line strings \"\"\"\n",
        "print(st)\n",
        "print(st[-8])"
      ],
      "metadata": {
        "id": "7iUr9qmCNbDz",
        "outputId": "345548b7-c69a-4db0-f0be-992e36670016",
        "colab": {
          "base_uri": "https://localhost:8080/"
        }
      },
      "execution_count": null,
      "outputs": [
        {
          "output_type": "stream",
          "name": "stdout",
          "text": [
            " test materieal\n",
            "python testing\n",
            "multiple line strings \n",
            "s\n"
          ]
        }
      ]
    },
    {
      "cell_type": "code",
      "source": [
        "# Day 3\n",
        "l = [\"facebook\", 20, 10.43, 2+3j]\n",
        "print(l)\n",
        "print(type(l))"
      ],
      "metadata": {
        "id": "tZoIvyVCR8Cu",
        "outputId": "2f7e6100-9542-43b5-b0d2-c05ffb910513",
        "colab": {
          "base_uri": "https://localhost:8080/"
        }
      },
      "execution_count": null,
      "outputs": [
        {
          "output_type": "stream",
          "name": "stdout",
          "text": [
            "['facebook', 20, 10.43, (2+3j)]\n",
            "<class 'list'>\n"
          ]
        }
      ]
    },
    {
      "cell_type": "code",
      "source": [
        "a = 4+3j\n",
        "print(type(a))"
      ],
      "metadata": {
        "id": "nREZibWCSv_G",
        "outputId": "7f847cce-deeb-4014-c76d-6a2d16553f7e",
        "colab": {
          "base_uri": "https://localhost:8080/"
        }
      },
      "execution_count": null,
      "outputs": [
        {
          "output_type": "stream",
          "name": "stdout",
          "text": [
            "<class 'complex'>\n"
          ]
        }
      ]
    },
    {
      "cell_type": "code",
      "source": [
        "a = 10.5\n",
        "print(isinstance(a, int))"
      ],
      "metadata": {
        "id": "rPRUxro0UMKn",
        "outputId": "f51b0bc7-e5f6-4c8f-d58f-4f3dde84faba",
        "colab": {
          "base_uri": "https://localhost:8080/"
        }
      },
      "execution_count": null,
      "outputs": [
        {
          "output_type": "stream",
          "name": "stdout",
          "text": [
            "False\n"
          ]
        }
      ]
    },
    {
      "cell_type": "code",
      "source": [
        "# variable annotation\n",
        "studname: str=\"NTT\"\n",
        "print(studname)\n",
        "print(__annotations__['studname'])\n",
        "print(type(studname))"
      ],
      "metadata": {
        "id": "jYK1m7ImUWF0",
        "outputId": "bbe7a42c-caa9-4341-ad66-eeb6928a0e89",
        "colab": {
          "base_uri": "https://localhost:8080/"
        }
      },
      "execution_count": null,
      "outputs": [
        {
          "output_type": "stream",
          "name": "stdout",
          "text": [
            "NTT\n",
            "<class 'str'>\n",
            "<class 'str'>\n"
          ]
        }
      ]
    },
    {
      "cell_type": "code",
      "source": [
        "aa: int = 10\n",
        "print(aa)\n",
        "\n",
        "print(__annotations__['aa'])\n",
        "print(type(aa))"
      ],
      "metadata": {
        "id": "pBK9YLUsXeGC",
        "outputId": "641298b2-5c1c-42ac-819b-d7ab5c310d06",
        "colab": {
          "base_uri": "https://localhost:8080/"
        }
      },
      "execution_count": null,
      "outputs": [
        {
          "output_type": "stream",
          "name": "stdout",
          "text": [
            "10\n",
            "<class 'int'>\n",
            "<class 'int'>\n"
          ]
        }
      ]
    },
    {
      "cell_type": "code",
      "source": [
        "# dictonaries\n",
        "d1={2:100, 4:200, 6:300, 8:400, 10: 500}\n",
        "print(d1)\n",
        "print(type(d1))\n",
        "print(d1[4])\n",
        "print(d1[8])"
      ],
      "metadata": {
        "id": "lJwj10eyayFs",
        "outputId": "5165a516-cd85-49cc-f4af-53fe7a99ef5c",
        "colab": {
          "base_uri": "https://localhost:8080/"
        }
      },
      "execution_count": 3,
      "outputs": [
        {
          "output_type": "stream",
          "name": "stdout",
          "text": [
            "{2: 100, 4: 200, 6: 300, 8: 400, 10: 500}\n",
            "<class 'dict'>\n",
            "200\n",
            "400\n"
          ]
        }
      ]
    },
    {
      "cell_type": "code",
      "source": [
        "d1={'aa':100, 'bb':200, 6:300, 8:400, 10: 500}\n",
        "print(d1)\n",
        "print(type(d1))\n",
        "print(d1[6])\n",
        "print(d1['bb'])"
      ],
      "metadata": {
        "id": "JqtwVmuCbw9R",
        "outputId": "c6a8988d-4714-42f7-b44b-b74a79089bb1",
        "colab": {
          "base_uri": "https://localhost:8080/"
        }
      },
      "execution_count": 5,
      "outputs": [
        {
          "output_type": "stream",
          "name": "stdout",
          "text": [
            "{'aa': 100, 'bb': 200, 6: 300, 8: 400, 10: 500}\n",
            "<class 'dict'>\n",
            "300\n",
            "200\n"
          ]
        }
      ]
    },
    {
      "cell_type": "code",
      "source": [
        "d1={3:{12,3}, 6:(8,5,6), 8:'NTT', 10: 500}\n",
        "print(d1)\n",
        "print(d1[3])\n",
        "print(d1[8])"
      ],
      "metadata": {
        "id": "coTFkjGpciwy",
        "outputId": "96700f77-dd30-4b7b-c0a1-eabb8de8a48d",
        "colab": {
          "base_uri": "https://localhost:8080/"
        }
      },
      "execution_count": 7,
      "outputs": [
        {
          "output_type": "stream",
          "name": "stdout",
          "text": [
            "{3: {3, 12}, 6: (8, 5, 6), 8: 'NTT', 10: 500}\n",
            "{3, 12}\n",
            "NTT\n"
          ]
        }
      ]
    },
    {
      "cell_type": "code",
      "source": [
        "d1={(12,3):100, (8,5,6):200, (1,2):'NTT', 10: 500}\n",
        "print(d1)\n",
        "print(d1[(1,2)])\n",
        "print(d1[10])"
      ],
      "metadata": {
        "id": "7Jetw-igdPs2",
        "outputId": "4c02af71-b8e1-4d05-d1f5-a1c74192806d",
        "colab": {
          "base_uri": "https://localhost:8080/"
        }
      },
      "execution_count": 16,
      "outputs": [
        {
          "output_type": "stream",
          "name": "stdout",
          "text": [
            "{(12, 3): 100, (8, 5, 6): 200, (1, 2): 'NTT', 10: 500}\n",
            "NTT\n",
            "500\n"
          ]
        }
      ]
    },
    {
      "cell_type": "code",
      "source": [
        "d1={2:100, 4:200, 6:300, 8:400, 10: 500}\n",
        "for s in d1.keys():\n",
        "    print(s)\n",
        "\n",
        "for ts in d1:\n",
        "    print(d1[ts])\n",
        "\n",
        "for s,t in d1.items():\n",
        "    print(s)\n",
        "    print(t)\n",
        "print(d1)"
      ],
      "metadata": {
        "id": "3V8E5VrOgD8f",
        "outputId": "fdd49421-71b3-4c67-e890-338785bc9d42",
        "colab": {
          "base_uri": "https://localhost:8080/"
        }
      },
      "execution_count": 22,
      "outputs": [
        {
          "output_type": "stream",
          "name": "stdout",
          "text": [
            "2\n",
            "4\n",
            "6\n",
            "8\n",
            "10\n",
            "100\n",
            "200\n",
            "300\n",
            "400\n",
            "500\n",
            "2\n",
            "100\n",
            "4\n",
            "200\n",
            "6\n",
            "300\n",
            "8\n",
            "400\n",
            "10\n",
            "500\n",
            "{2: 100, 4: 200, 6: 300, 8: 400, 10: 500}\n"
          ]
        }
      ]
    },
    {
      "cell_type": "code",
      "source": [
        "#membership operator\n",
        "s1={2:100, 4:200, 6:300, 8:400, 10: 500}\n",
        "sk = s1.keys()\n",
        "sv=s1.values()\n",
        "sitems=s1.items()\n",
        "print(2 in s1)\n",
        "print(10 not in s1)\n",
        "print (sk)\n",
        "print(type(sk))\n",
        "print(sv)\n",
        "print(type(sv))\n",
        "print(sitems)"
      ],
      "metadata": {
        "id": "HPvsUPvVhK-f",
        "outputId": "1f131e1e-586c-464f-ab91-6728d08c0b33",
        "colab": {
          "base_uri": "https://localhost:8080/"
        }
      },
      "execution_count": 27,
      "outputs": [
        {
          "output_type": "stream",
          "name": "stdout",
          "text": [
            "True\n",
            "False\n",
            "dict_keys([2, 4, 6, 8, 10])\n",
            "<class 'dict_keys'>\n",
            "dict_values([100, 200, 300, 400, 500])\n",
            "<class 'dict_values'>\n",
            "dict_items([(2, 100), (4, 200), (6, 300), (8, 400), (10, 500)])\n"
          ]
        }
      ]
    }
  ]
}