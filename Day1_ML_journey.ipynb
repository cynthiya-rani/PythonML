{
  "nbformat": 4,
  "nbformat_minor": 0,
  "metadata": {
    "colab": {
      "provenance": [],
      "include_colab_link": true
    },
    "kernelspec": {
      "name": "python3",
      "display_name": "Python 3"
    },
    "language_info": {
      "name": "python"
    }
  },
  "cells": [
    {
      "cell_type": "markdown",
      "metadata": {
        "id": "view-in-github",
        "colab_type": "text"
      },
      "source": [
        "<a href=\"https://colab.research.google.com/github/cynthiya-rani/PythonML/blob/main/Day1_ML_journey.ipynb\" target=\"_parent\"><img src=\"https://colab.research.google.com/assets/colab-badge.svg\" alt=\"Open In Colab\"/></a>"
      ]
    },
    {
      "cell_type": "code",
      "execution_count": null,
      "metadata": {
        "colab": {
          "base_uri": "https://localhost:8080/"
        },
        "id": "HpmbKqI7jltH",
        "outputId": "0ec1bf68-5f68-4ec7-f746-ea081ec8cab5"
      },
      "outputs": [
        {
          "output_type": "stream",
          "name": "stdout",
          "text": [
            "hello world\n"
          ]
        }
      ],
      "source": [
        "print(\"hello world\")"
      ]
    },
    {
      "cell_type": "code",
      "source": [
        "print(\"Welcome Cynthiya!\")"
      ],
      "metadata": {
        "id": "34ZbDQBAxLWX",
        "outputId": "fc27e3e5-9f33-4fb9-9111-e9b38dcb9748",
        "colab": {
          "base_uri": "https://localhost:8080/"
        }
      },
      "execution_count": null,
      "outputs": [
        {
          "output_type": "stream",
          "name": "stdout",
          "text": [
            "Welcome Cynthiya!\n"
          ]
        }
      ]
    },
    {
      "cell_type": "code",
      "source": [
        "a=100\n",
        "print(id(a))"
      ],
      "metadata": {
        "id": "tHFWGlYZD3rD",
        "outputId": "cb9c0cc8-aa9e-420b-e8ca-bb7e336cd9e1",
        "colab": {
          "base_uri": "https://localhost:8080/"
        }
      },
      "execution_count": 1,
      "outputs": [
        {
          "output_type": "stream",
          "name": "stdout",
          "text": [
            "10754024\n"
          ]
        }
      ]
    },
    {
      "cell_type": "code",
      "source": [
        "b=100\n",
        "print(id(b))"
      ],
      "metadata": {
        "id": "7JUi9k7hEC80",
        "outputId": "84d32b42-96e9-4775-81f0-4486e8d35129",
        "colab": {
          "base_uri": "https://localhost:8080/"
        }
      },
      "execution_count": 2,
      "outputs": [
        {
          "output_type": "stream",
          "name": "stdout",
          "text": [
            "10754024\n"
          ]
        }
      ]
    },
    {
      "cell_type": "code",
      "source": [
        "c=100\n",
        "print(id(c))"
      ],
      "metadata": {
        "id": "ZJRwYZaAELvO",
        "outputId": "16fa0cf1-2b4a-490b-9e89-54febdc45be0",
        "colab": {
          "base_uri": "https://localhost:8080/"
        }
      },
      "execution_count": 3,
      "outputs": [
        {
          "output_type": "stream",
          "name": "stdout",
          "text": [
            "10754024\n"
          ]
        }
      ]
    },
    {
      "cell_type": "code",
      "source": [
        "d=50\n",
        "e=d\n",
        "print(id(d))\n",
        "print(id(e))"
      ],
      "metadata": {
        "id": "CvQz8hXHES6w",
        "outputId": "862e2c8e-1222-4651-d5b5-961cfae2a072",
        "colab": {
          "base_uri": "https://localhost:8080/"
        }
      },
      "execution_count": 4,
      "outputs": [
        {
          "output_type": "stream",
          "name": "stdout",
          "text": [
            "10752424\n",
            "10752424\n"
          ]
        }
      ]
    },
    {
      "cell_type": "code",
      "source": [
        "s, t, u=10,20,30\n",
        "print(id(s), id(t), id(u))"
      ],
      "metadata": {
        "id": "GDMTebETHAU8",
        "outputId": "92d1be5a-775c-4a50-d6e6-c09cf5d8df2f",
        "colab": {
          "base_uri": "https://localhost:8080/"
        }
      },
      "execution_count": 5,
      "outputs": [
        {
          "output_type": "stream",
          "name": "stdout",
          "text": [
            "10751144 10751464 10751784\n"
          ]
        }
      ]
    },
    {
      "cell_type": "code",
      "source": [
        "a=b=c=10\n",
        "print(a,b,c)"
      ],
      "metadata": {
        "id": "qZySOyLOHO1n",
        "outputId": "65d7bfb5-2c0b-4774-87ec-628c57756699",
        "colab": {
          "base_uri": "https://localhost:8080/"
        }
      },
      "execution_count": 9,
      "outputs": [
        {
          "output_type": "stream",
          "name": "stdout",
          "text": [
            "10 10 10\n"
          ]
        }
      ]
    }
  ]
}