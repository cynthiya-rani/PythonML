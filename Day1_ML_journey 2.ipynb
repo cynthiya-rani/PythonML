{
  "nbformat": 4,
  "nbformat_minor": 0,
  "metadata": {
    "colab": {
      "provenance": []
    },
    "kernelspec": {
      "name": "python3",
      "display_name": "Python 3"
    },
    "language_info": {
      "name": "python"
    }
  },
  "cells": [
    {
      "cell_type": "code",
      "execution_count": 4,
      "metadata": {
        "colab": {
          "base_uri": "https://localhost:8080/"
        },
        "id": "HpmbKqI7jltH",
        "outputId": "e2070416-db76-4829-ad3d-de9e47557946"
      },
      "outputs": [
        {
          "output_type": "stream",
          "name": "stdout",
          "text": [
            "Name:  Bike Color:  Red Price:  20000\n",
            "Vechicle max speed is 150\n",
            "Vechicle change 6 gear\n",
            "Name:  Car Color:  Blue Price:  30000\n",
            "Car max speed is 240\n",
            "Car change 7 gear\n",
            "Name:  Bus Color:  Silver Price:  40000\n",
            "Bus max speed is 180\n",
            "Bus change 8 gear\n",
            "Name:  Truck Color:  Yellow Price:  50000\n",
            "Truck max speed is 240\n",
            "Truck change 7 gear\n"
          ]
        }
      ],
      "source": [
        "class Vechicle:\n",
        "  def __init__(self, name, color, price):\n",
        "    self.name=name\n",
        "    self.price=price\n",
        "    self.color=color\n",
        "\n",
        "  def show(self):\n",
        "    print(\"Name: \", self.name, \"Color: \", self.color, \"Price: \", self.price)\n",
        "\n",
        "  def max_speed(self):\n",
        "    print(\"Vechicle max speed is 150\")\n",
        "\n",
        "  def change_gear(self):\n",
        "    print(\"Vechicle change 6 gear\")\n",
        "class Car(Vechicle):\n",
        "  def max_speed(self):\n",
        "    print(\"Car max speed is 240\")\n",
        "\n",
        "  def change_gear(self):\n",
        "    print(\"Car change 7 gear\")\n",
        "class Bus(Vechicle):\n",
        "  def max_speed(self):\n",
        "    print(\"Bus max speed is 180\")\n",
        "\n",
        "  def change_gear(self):\n",
        "    print(\"Bus change 8 gear\")\n",
        "\n",
        "class Truck(Vechicle):\n",
        "  def max_speed(self):\n",
        "    print(\"Truck max speed is 240\")\n",
        "\n",
        "  def change_gear(self):\n",
        "    print(\"Truck change 7 gear\")\n",
        "\n",
        "v1=Vechicle(\"Bike\", \"Red\", 20000)\n",
        "c1=Car(\"Car\", \"Blue\", 30000)\n",
        "b1=Bus(\"Bus\", \"Silver\", 40000)\n",
        "t1=Truck(\"Truck\", \"Yellow\", 50000)\n",
        "v1.show()\n",
        "v1.max_speed()\n",
        "v1.change_gear()\n",
        "c1.show()\n",
        "c1.max_speed()\n",
        "c1.change_gear()\n",
        "b1.show()\n",
        "b1.max_speed()\n",
        "b1.change_gear()\n",
        "t1.show()\n",
        "t1.max_speed()\n",
        "t1.change_gear()"
      ]
    },
    {
      "cell_type": "code",
      "source": [
        "# polymorphism with functions\n",
        "class BMW:\n",
        "  def fuel_type(self):\n",
        "    print(\"BMW fuel type\")\n",
        "\n",
        "  def max_speed(self):\n",
        "    print(\"BMW max speed\")\n",
        "\n",
        "class Ferrori:\n",
        "  def fuel_type(self):\n",
        "    print(\"Ferrori fuel type\")\n",
        "\n",
        "  def max_speed(self):\n",
        "    print(\"Ferrori max speed\")\n",
        "\n",
        "class Tesla:\n",
        "  def fuel_type(self):\n",
        "    print(\"Tesla fuel type\")\n",
        "\n",
        "  def max_speed(self):\n",
        "    print(\"Tesla max speed\")\n",
        "\n",
        "def car_details(obj):\n",
        "  obj.fuel_type()\n",
        "  obj.max_speed()\n",
        "\n",
        "bmw=BMW()\n",
        "ferari=Ferrori()\n",
        "tesla=Tesla()\n",
        "\n",
        "car_details(bmw)\n",
        "car_details(ferari)\n",
        "car_details(tesla)"
      ],
      "metadata": {
        "id": "34ZbDQBAxLWX",
        "outputId": "55b17152-152c-44e6-d588-977260070240",
        "colab": {
          "base_uri": "https://localhost:8080/"
        }
      },
      "execution_count": 1,
      "outputs": [
        {
          "output_type": "stream",
          "name": "stdout",
          "text": [
            "BMW fuel type\n",
            "BMW max speed\n",
            "Ferrori fuel type\n",
            "Ferrori max speed\n",
            "Tesla fuel type\n",
            "Tesla max speed\n"
          ]
        }
      ]
    },
    {
      "cell_type": "code",
      "source": [
        "# operator overloading\n",
        "n1=10\n",
        "n2=20\n",
        "print(n1+n2)\n",
        "print(n1.__add__(n2))\n",
        "print(int.__add__(n1, n2))\n",
        "s1=\"Hello\"\n",
        "s2=\"World\"\n",
        "print(s1+s2)\n",
        "print(s1.__add__(s2))\n",
        "print(str.__add__(s1, s2))\n",
        "print(\"Directory Listing of Int : \",  dir(int))\n",
        "print(\"Directory Listing of Str : \" , dir(str))\n",
        "print(\"Directory Listing of List : \" , dir(list))\n",
        "print(\"Directory Listing of dict : \" , dir(dict))\n",
        "print(\"Directory Listing of Tuple : \" , dir(tuple))\n",
        "print(\"Directory Listing of Set : \" , dir(set))\n",
        "print(\"Directory Listing of Complex : \" , dir(complex))\n",
        "print(\"Directory Listing of Float : \" , dir(float))\n",
        "print(\"Directory Listing of Bool : \" , dir(bool))\n",
        "print(\"Directory Listing of Bytes : \" , dir(bytes))\n",
        "print(\"Directory Listing of Bytearray : \" , dir(bytearray))\n",
        "print(\"Directory Listing of MemoryView : \" , dir(memoryview))\n",
        "print(\"Directory Listing of Range : \" , dir(range))\n"
      ],
      "metadata": {
        "id": "6Il0AXUqdj-e",
        "outputId": "6fbf5ba1-78b3-4797-9e6b-1f03521eef3d",
        "colab": {
          "base_uri": "https://localhost:8080/"
        }
      },
      "execution_count": 14,
      "outputs": [
        {
          "output_type": "stream",
          "name": "stdout",
          "text": [
            "30\n",
            "30\n",
            "30\n",
            "HelloWorld\n",
            "HelloWorld\n",
            "HelloWorld\n",
            "Directory Listing of Int :  ['__abs__', '__add__', '__and__', '__bool__', '__ceil__', '__class__', '__delattr__', '__dir__', '__divmod__', '__doc__', '__eq__', '__float__', '__floor__', '__floordiv__', '__format__', '__ge__', '__getattribute__', '__getnewargs__', '__getstate__', '__gt__', '__hash__', '__index__', '__init__', '__init_subclass__', '__int__', '__invert__', '__le__', '__lshift__', '__lt__', '__mod__', '__mul__', '__ne__', '__neg__', '__new__', '__or__', '__pos__', '__pow__', '__radd__', '__rand__', '__rdivmod__', '__reduce__', '__reduce_ex__', '__repr__', '__rfloordiv__', '__rlshift__', '__rmod__', '__rmul__', '__ror__', '__round__', '__rpow__', '__rrshift__', '__rshift__', '__rsub__', '__rtruediv__', '__rxor__', '__setattr__', '__sizeof__', '__str__', '__sub__', '__subclasshook__', '__truediv__', '__trunc__', '__xor__', 'as_integer_ratio', 'bit_count', 'bit_length', 'conjugate', 'denominator', 'from_bytes', 'imag', 'numerator', 'real', 'to_bytes']\n",
            "Directory Listing of Str :  ['__add__', '__class__', '__contains__', '__delattr__', '__dir__', '__doc__', '__eq__', '__format__', '__ge__', '__getattribute__', '__getitem__', '__getnewargs__', '__getstate__', '__gt__', '__hash__', '__init__', '__init_subclass__', '__iter__', '__le__', '__len__', '__lt__', '__mod__', '__mul__', '__ne__', '__new__', '__reduce__', '__reduce_ex__', '__repr__', '__rmod__', '__rmul__', '__setattr__', '__sizeof__', '__str__', '__subclasshook__', 'capitalize', 'casefold', 'center', 'count', 'encode', 'endswith', 'expandtabs', 'find', 'format', 'format_map', 'index', 'isalnum', 'isalpha', 'isascii', 'isdecimal', 'isdigit', 'isidentifier', 'islower', 'isnumeric', 'isprintable', 'isspace', 'istitle', 'isupper', 'join', 'ljust', 'lower', 'lstrip', 'maketrans', 'partition', 'removeprefix', 'removesuffix', 'replace', 'rfind', 'rindex', 'rjust', 'rpartition', 'rsplit', 'rstrip', 'split', 'splitlines', 'startswith', 'strip', 'swapcase', 'title', 'translate', 'upper', 'zfill']\n",
            "Directory Listing of List :  ['__add__', '__class__', '__class_getitem__', '__contains__', '__delattr__', '__delitem__', '__dir__', '__doc__', '__eq__', '__format__', '__ge__', '__getattribute__', '__getitem__', '__getstate__', '__gt__', '__hash__', '__iadd__', '__imul__', '__init__', '__init_subclass__', '__iter__', '__le__', '__len__', '__lt__', '__mul__', '__ne__', '__new__', '__reduce__', '__reduce_ex__', '__repr__', '__reversed__', '__rmul__', '__setattr__', '__setitem__', '__sizeof__', '__str__', '__subclasshook__', 'append', 'clear', 'copy', 'count', 'extend', 'index', 'insert', 'pop', 'remove', 'reverse', 'sort']\n",
            "Directory Listing of dict :  ['__class__', '__class_getitem__', '__contains__', '__delattr__', '__delitem__', '__dir__', '__doc__', '__eq__', '__format__', '__ge__', '__getattribute__', '__getitem__', '__getstate__', '__gt__', '__hash__', '__init__', '__init_subclass__', '__ior__', '__iter__', '__le__', '__len__', '__lt__', '__ne__', '__new__', '__or__', '__reduce__', '__reduce_ex__', '__repr__', '__reversed__', '__ror__', '__setattr__', '__setitem__', '__sizeof__', '__str__', '__subclasshook__', 'clear', 'copy', 'fromkeys', 'get', 'items', 'keys', 'pop', 'popitem', 'setdefault', 'update', 'values']\n",
            "Directory Listing of Tuple :  ['__add__', '__class__', '__class_getitem__', '__contains__', '__delattr__', '__dir__', '__doc__', '__eq__', '__format__', '__ge__', '__getattribute__', '__getitem__', '__getnewargs__', '__getstate__', '__gt__', '__hash__', '__init__', '__init_subclass__', '__iter__', '__le__', '__len__', '__lt__', '__mul__', '__ne__', '__new__', '__reduce__', '__reduce_ex__', '__repr__', '__rmul__', '__setattr__', '__sizeof__', '__str__', '__subclasshook__', 'count', 'index']\n",
            "Directory Listing of Set :  ['__and__', '__class__', '__class_getitem__', '__contains__', '__delattr__', '__dir__', '__doc__', '__eq__', '__format__', '__ge__', '__getattribute__', '__getstate__', '__gt__', '__hash__', '__iand__', '__init__', '__init_subclass__', '__ior__', '__isub__', '__iter__', '__ixor__', '__le__', '__len__', '__lt__', '__ne__', '__new__', '__or__', '__rand__', '__reduce__', '__reduce_ex__', '__repr__', '__ror__', '__rsub__', '__rxor__', '__setattr__', '__sizeof__', '__str__', '__sub__', '__subclasshook__', '__xor__', 'add', 'clear', 'copy', 'difference', 'difference_update', 'discard', 'intersection', 'intersection_update', 'isdisjoint', 'issubset', 'issuperset', 'pop', 'remove', 'symmetric_difference', 'symmetric_difference_update', 'union', 'update']\n",
            "Directory Listing of Complex :  ['__abs__', '__add__', '__bool__', '__class__', '__complex__', '__delattr__', '__dir__', '__doc__', '__eq__', '__format__', '__ge__', '__getattribute__', '__getnewargs__', '__getstate__', '__gt__', '__hash__', '__init__', '__init_subclass__', '__le__', '__lt__', '__mul__', '__ne__', '__neg__', '__new__', '__pos__', '__pow__', '__radd__', '__reduce__', '__reduce_ex__', '__repr__', '__rmul__', '__rpow__', '__rsub__', '__rtruediv__', '__setattr__', '__sizeof__', '__str__', '__sub__', '__subclasshook__', '__truediv__', 'conjugate', 'imag', 'real']\n",
            "Directory Listing of Float :  ['__abs__', '__add__', '__bool__', '__ceil__', '__class__', '__delattr__', '__dir__', '__divmod__', '__doc__', '__eq__', '__float__', '__floor__', '__floordiv__', '__format__', '__ge__', '__getattribute__', '__getformat__', '__getnewargs__', '__getstate__', '__gt__', '__hash__', '__init__', '__init_subclass__', '__int__', '__le__', '__lt__', '__mod__', '__mul__', '__ne__', '__neg__', '__new__', '__pos__', '__pow__', '__radd__', '__rdivmod__', '__reduce__', '__reduce_ex__', '__repr__', '__rfloordiv__', '__rmod__', '__rmul__', '__round__', '__rpow__', '__rsub__', '__rtruediv__', '__setattr__', '__sizeof__', '__str__', '__sub__', '__subclasshook__', '__truediv__', '__trunc__', 'as_integer_ratio', 'conjugate', 'fromhex', 'hex', 'imag', 'is_integer', 'real']\n",
            "Directory Listing of Bool :  ['__abs__', '__add__', '__and__', '__bool__', '__ceil__', '__class__', '__delattr__', '__dir__', '__divmod__', '__doc__', '__eq__', '__float__', '__floor__', '__floordiv__', '__format__', '__ge__', '__getattribute__', '__getnewargs__', '__getstate__', '__gt__', '__hash__', '__index__', '__init__', '__init_subclass__', '__int__', '__invert__', '__le__', '__lshift__', '__lt__', '__mod__', '__mul__', '__ne__', '__neg__', '__new__', '__or__', '__pos__', '__pow__', '__radd__', '__rand__', '__rdivmod__', '__reduce__', '__reduce_ex__', '__repr__', '__rfloordiv__', '__rlshift__', '__rmod__', '__rmul__', '__ror__', '__round__', '__rpow__', '__rrshift__', '__rshift__', '__rsub__', '__rtruediv__', '__rxor__', '__setattr__', '__sizeof__', '__str__', '__sub__', '__subclasshook__', '__truediv__', '__trunc__', '__xor__', 'as_integer_ratio', 'bit_count', 'bit_length', 'conjugate', 'denominator', 'from_bytes', 'imag', 'numerator', 'real', 'to_bytes']\n",
            "Directory Listing of Bytes :  ['__add__', '__bytes__', '__class__', '__contains__', '__delattr__', '__dir__', '__doc__', '__eq__', '__format__', '__ge__', '__getattribute__', '__getitem__', '__getnewargs__', '__getstate__', '__gt__', '__hash__', '__init__', '__init_subclass__', '__iter__', '__le__', '__len__', '__lt__', '__mod__', '__mul__', '__ne__', '__new__', '__reduce__', '__reduce_ex__', '__repr__', '__rmod__', '__rmul__', '__setattr__', '__sizeof__', '__str__', '__subclasshook__', 'capitalize', 'center', 'count', 'decode', 'endswith', 'expandtabs', 'find', 'fromhex', 'hex', 'index', 'isalnum', 'isalpha', 'isascii', 'isdigit', 'islower', 'isspace', 'istitle', 'isupper', 'join', 'ljust', 'lower', 'lstrip', 'maketrans', 'partition', 'removeprefix', 'removesuffix', 'replace', 'rfind', 'rindex', 'rjust', 'rpartition', 'rsplit', 'rstrip', 'split', 'splitlines', 'startswith', 'strip', 'swapcase', 'title', 'translate', 'upper', 'zfill']\n",
            "Directory Listing of Bytearray :  ['__add__', '__alloc__', '__class__', '__contains__', '__delattr__', '__delitem__', '__dir__', '__doc__', '__eq__', '__format__', '__ge__', '__getattribute__', '__getitem__', '__getstate__', '__gt__', '__hash__', '__iadd__', '__imul__', '__init__', '__init_subclass__', '__iter__', '__le__', '__len__', '__lt__', '__mod__', '__mul__', '__ne__', '__new__', '__reduce__', '__reduce_ex__', '__repr__', '__rmod__', '__rmul__', '__setattr__', '__setitem__', '__sizeof__', '__str__', '__subclasshook__', 'append', 'capitalize', 'center', 'clear', 'copy', 'count', 'decode', 'endswith', 'expandtabs', 'extend', 'find', 'fromhex', 'hex', 'index', 'insert', 'isalnum', 'isalpha', 'isascii', 'isdigit', 'islower', 'isspace', 'istitle', 'isupper', 'join', 'ljust', 'lower', 'lstrip', 'maketrans', 'partition', 'pop', 'remove', 'removeprefix', 'removesuffix', 'replace', 'reverse', 'rfind', 'rindex', 'rjust', 'rpartition', 'rsplit', 'rstrip', 'split', 'splitlines', 'startswith', 'strip', 'swapcase', 'title', 'translate', 'upper', 'zfill']\n",
            "Directory Listing of MemoryView :  ['__class__', '__delattr__', '__delitem__', '__dir__', '__doc__', '__enter__', '__eq__', '__exit__', '__format__', '__ge__', '__getattribute__', '__getitem__', '__getstate__', '__gt__', '__hash__', '__init__', '__init_subclass__', '__iter__', '__le__', '__len__', '__lt__', '__ne__', '__new__', '__reduce__', '__reduce_ex__', '__repr__', '__setattr__', '__setitem__', '__sizeof__', '__str__', '__subclasshook__', 'c_contiguous', 'cast', 'contiguous', 'f_contiguous', 'format', 'hex', 'itemsize', 'nbytes', 'ndim', 'obj', 'readonly', 'release', 'shape', 'strides', 'suboffsets', 'tobytes', 'tolist', 'toreadonly']\n",
            "Directory Listing of Range :  ['__bool__', '__class__', '__contains__', '__delattr__', '__dir__', '__doc__', '__eq__', '__format__', '__ge__', '__getattribute__', '__getitem__', '__getstate__', '__gt__', '__hash__', '__init__', '__init_subclass__', '__iter__', '__le__', '__len__', '__lt__', '__ne__', '__new__', '__reduce__', '__reduce_ex__', '__repr__', '__reversed__', '__setattr__', '__sizeof__', '__str__', '__subclasshook__', 'count', 'index', 'start', 'step', 'stop']\n"
          ]
        }
      ]
    },
    {
      "cell_type": "code",
      "source": [
        "class Hotel:\n",
        "  def __init__(self,name, fare):\n",
        "    self.name = name\n",
        "    self.fare = fare\n",
        "\n",
        "  def __gt__(self,other):\n",
        "    if self.fare > other.fare:\n",
        "      return True\n",
        "    else:\n",
        "      return False\n",
        "\n",
        "h1 = Hotel('A',9000)\n",
        "h2 = Hotel('B',4000)\n",
        "\n",
        "print(h1>h2)"
      ],
      "metadata": {
        "id": "RDyPGjIblL20",
        "outputId": "da2edd8d-aed7-46f3-d087-ff0d17ca7f34",
        "colab": {
          "base_uri": "https://localhost:8080/"
        }
      },
      "execution_count": 17,
      "outputs": [
        {
          "output_type": "stream",
          "name": "stdout",
          "text": [
            "True\n"
          ]
        }
      ]
    },
    {
      "cell_type": "code",
      "source": [
        "# method overloading\n",
        "class Addition:\n",
        "  def add(self, a, b):\n",
        "    print(a+b)\n",
        "  def add(self, a, b, c):\n",
        "    print(a+b+c)\n",
        "\n",
        "a1=Addition()\n",
        "a1.add(10,20, 30)"
      ],
      "metadata": {
        "id": "UNtz1-zslj67",
        "outputId": "620b87f8-20f6-4e57-e9ab-1974dc7997b9",
        "colab": {
          "base_uri": "https://localhost:8080/"
        }
      },
      "execution_count": 20,
      "outputs": [
        {
          "output_type": "stream",
          "name": "stdout",
          "text": [
            "60\n"
          ]
        }
      ]
    },
    {
      "cell_type": "code",
      "source": [
        "# method overloading\n",
        "class Addition:\n",
        "  def add(self, a=None, b=None, c=None):\n",
        "    if a!=None and b!=None and c!=None:\n",
        "      print(a+b+c)\n",
        "    elif a!=None and b!=None:\n",
        "      print(a+b)\n",
        "    else:\n",
        "      print(\"Invalid\")\n",
        "\n",
        "a1=Addition()\n",
        "a1.add(10,20)\n",
        "a1.add(10,20, 30)"
      ],
      "metadata": {
        "id": "ScDoO-mzmz55",
        "outputId": "375c0232-ec8f-478a-db07-9d7f3d1fa876",
        "colab": {
          "base_uri": "https://localhost:8080/"
        }
      },
      "execution_count": 22,
      "outputs": [
        {
          "output_type": "stream",
          "name": "stdout",
          "text": [
            "30\n",
            "60\n"
          ]
        }
      ]
    }
  ]
}